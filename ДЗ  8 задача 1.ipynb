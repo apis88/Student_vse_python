{
 "cells": [
  {
   "cell_type": "code",
   "execution_count": 140,
   "id": "2ec320cc",
   "metadata": {},
   "outputs": [],
   "source": [
    "import re"
   ]
  },
  {
   "cell_type": "code",
   "execution_count": 141,
   "id": "a793dbf1",
   "metadata": {},
   "outputs": [],
   "source": [
    "car_number = 'А888АА00'\n",
    "#car_number = 'О005АК78'"
   ]
  },
  {
   "cell_type": "code",
   "execution_count": 142,
   "id": "ba086ef5",
   "metadata": {},
   "outputs": [],
   "source": [
    "#car_number=input('Введите гос номер: ')\n",
    "def car_number_valid(car_number):\n",
    "    regex_number='^[АВЕКМНОРСТУХ]\\d{3}(?<!000)[АВЕКМНОРСТУХ]{2}\\d{2,3}'\n",
    "    if re.match(regex_number, car_number):\n",
    "        number = re.findall('^[АВЕКМНОРСТУХ]\\d{3}(?<!000)[АВЕКМНОРСТУХ]{2}', car_number)\n",
    "        reg = re.findall('\\\\d+', car_number)\n",
    "        print(f'Номер {number[0]} валиден. Регион: {reg[1]}')\n",
    "    else:\n",
    "        print ('Номер не валиден')"
   ]
  },
  {
   "cell_type": "code",
   "execution_count": 143,
   "id": "944f73b7",
   "metadata": {},
   "outputs": [
    {
     "name": "stdout",
     "output_type": "stream",
     "text": [
      "Номер А888АА валиден. Регион: 00\n"
     ]
    }
   ],
   "source": [
    "car_number_valid(car_number)"
   ]
  },
  {
   "cell_type": "code",
   "execution_count": null,
   "id": "358428af",
   "metadata": {},
   "outputs": [],
   "source": []
  },
  {
   "cell_type": "code",
   "execution_count": null,
   "id": "9407eb68",
   "metadata": {},
   "outputs": [],
   "source": []
  },
  {
   "cell_type": "code",
   "execution_count": null,
   "id": "72b0be0f",
   "metadata": {},
   "outputs": [],
   "source": []
  },
  {
   "cell_type": "code",
   "execution_count": null,
   "id": "1923dfaa",
   "metadata": {},
   "outputs": [],
   "source": []
  }
 ],
 "metadata": {
  "kernelspec": {
   "display_name": "Python 3 (ipykernel)",
   "language": "python",
   "name": "python3"
  },
  "language_info": {
   "codemirror_mode": {
    "name": "ipython",
    "version": 3
   },
   "file_extension": ".py",
   "mimetype": "text/x-python",
   "name": "python",
   "nbconvert_exporter": "python",
   "pygments_lexer": "ipython3",
   "version": "3.9.12"
  }
 },
 "nbformat": 4,
 "nbformat_minor": 5
}
