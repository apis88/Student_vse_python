{
 "cells": [
  {
   "cell_type": "code",
   "execution_count": 67,
   "id": "92916e80",
   "metadata": {},
   "outputs": [],
   "source": [
    "ids = {'user1': [213, 213, 213, 15, 213], \n",
    "       'user2': [54, 54, 119, 119, 119], \n",
    "       'user3': [213, 98, 98, 35]}"
   ]
  },
  {
   "cell_type": "code",
   "execution_count": 68,
   "id": "3644efa3",
   "metadata": {},
   "outputs": [],
   "source": [
    "ids.values()\n",
    "my_list = []"
   ]
  },
  {
   "cell_type": "code",
   "execution_count": 69,
   "id": "76c0066d",
   "metadata": {},
   "outputs": [
    {
     "name": "stdout",
     "output_type": "stream",
     "text": [
      "[213, 213, 213, 15, 213] [213, 213, 213, 15, 213]\n",
      "[54, 54, 119, 119, 119] [213, 213, 213, 15, 213, 54, 54, 119, 119, 119]\n",
      "[213, 98, 98, 35] [213, 213, 213, 15, 213, 54, 54, 119, 119, 119, 213, 98, 98, 35]\n"
     ]
    }
   ],
   "source": [
    "for i in ids.values():\n",
    "    #My_set = My_set.union(set(i))\n",
    "    #print(My_set)\n",
    "    my_list =  my_list + i\n",
    "    print(i, my_list)"
   ]
  },
  {
   "cell_type": "code",
   "execution_count": 70,
   "id": "9f7d8545",
   "metadata": {},
   "outputs": [
    {
     "data": {
      "text/plain": [
       "[213, 213, 213, 15, 213, 54, 54, 119, 119, 119, 213, 98, 98, 35]"
      ]
     },
     "execution_count": 70,
     "metadata": {},
     "output_type": "execute_result"
    }
   ],
   "source": [
    "my_list"
   ]
  },
  {
   "cell_type": "code",
   "execution_count": 71,
   "id": "87a489fb",
   "metadata": {},
   "outputs": [],
   "source": [
    "my_set=set(my_list)"
   ]
  },
  {
   "cell_type": "code",
   "execution_count": 72,
   "id": "61fb510c",
   "metadata": {},
   "outputs": [
    {
     "data": {
      "text/plain": [
       "{15, 35, 54, 98, 119, 213}"
      ]
     },
     "execution_count": 72,
     "metadata": {},
     "output_type": "execute_result"
    }
   ],
   "source": [
    "my_set"
   ]
  },
  {
   "cell_type": "code",
   "execution_count": null,
   "id": "5bb5e10b",
   "metadata": {},
   "outputs": [],
   "source": []
  }
 ],
 "metadata": {
  "kernelspec": {
   "display_name": "Python 3 (ipykernel)",
   "language": "python",
   "name": "python3"
  },
  "language_info": {
   "codemirror_mode": {
    "name": "ipython",
    "version": 3
   },
   "file_extension": ".py",
   "mimetype": "text/x-python",
   "name": "python",
   "nbconvert_exporter": "python",
   "pygments_lexer": "ipython3",
   "version": "3.9.12"
  }
 },
 "nbformat": 4,
 "nbformat_minor": 5
}
