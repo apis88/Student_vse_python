{
 "cells": [
  {
   "cell_type": "code",
   "execution_count": 118,
   "id": "2e0579e8",
   "metadata": {},
   "outputs": [],
   "source": [
    "import requests"
   ]
  },
  {
   "cell_type": "code",
   "execution_count": 119,
   "id": "017fb06e",
   "metadata": {},
   "outputs": [],
   "source": [
    "def get_max_kurs_valute():\n",
    "    requests.get('https://www.cbr-xml-daily.ru/daily_json.js')\n",
    "    Valute = response.json()\n",
    "    max_kurs = 0.0\n",
    "    max_kurs_Valute = ''\n",
    "    for kurs in Valute['Valute'].values():\n",
    "        if kurs['Value'] >= max_kurs:\n",
    "            max_kurs = kurs['Value']\n",
    "            max_kurs_Valute = kurs['Name']\n",
    "    return max_kurs_Valute"
   ]
  },
  {
   "cell_type": "code",
   "execution_count": 120,
   "id": "cc9372e5",
   "metadata": {},
   "outputs": [
    {
     "name": "stdout",
     "output_type": "stream",
     "text": [
      "Китайских юаней\n"
     ]
    }
   ],
   "source": [
    "print(get_max_kurs_valute())"
   ]
  },
  {
   "cell_type": "code",
   "execution_count": null,
   "id": "7ec60d24",
   "metadata": {},
   "outputs": [],
   "source": []
  },
  {
   "cell_type": "code",
   "execution_count": null,
   "id": "456fe19a",
   "metadata": {},
   "outputs": [],
   "source": []
  }
 ],
 "metadata": {
  "kernelspec": {
   "display_name": "Python 3 (ipykernel)",
   "language": "python",
   "name": "python3"
  },
  "language_info": {
   "codemirror_mode": {
    "name": "ipython",
    "version": 3
   },
   "file_extension": ".py",
   "mimetype": "text/x-python",
   "name": "python",
   "nbconvert_exporter": "python",
   "pygments_lexer": "ipython3",
   "version": "3.9.12"
  }
 },
 "nbformat": 4,
 "nbformat_minor": 5
}
