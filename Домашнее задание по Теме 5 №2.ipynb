{
 "cells": [
  {
   "cell_type": "code",
   "execution_count": 267,
   "id": "c87525ce",
   "metadata": {},
   "outputs": [],
   "source": [
    "import json"
   ]
  },
  {
   "cell_type": "code",
   "execution_count": 268,
   "id": "cb677179",
   "metadata": {},
   "outputs": [],
   "source": [
    "f.close()"
   ]
  },
  {
   "cell_type": "code",
   "execution_count": 269,
   "id": "1b444aa8",
   "metadata": {},
   "outputs": [],
   "source": [
    "purchases  = {}\n",
    "\n",
    "with open('purchase_log.txt','r', encoding = 'utf-8') as f:\n",
    "    for LineNum, line in enumerate(f):\n",
    "        if LineNum > 0:\n",
    "            line = line.strip()\n",
    "            new_dict = json.loads(line) \n",
    "            key = new_dict['user_id']\n",
    "            value = new_dict['category']\n",
    "            purchases[key] = key\n",
    "            purchases[key] = value"
   ]
  },
  {
   "cell_type": "code",
   "execution_count": 270,
   "id": "02a7b365",
   "metadata": {},
   "outputs": [],
   "source": [
    "f.close()"
   ]
  },
  {
   "cell_type": "code",
   "execution_count": 271,
   "id": "5f6f116f",
   "metadata": {},
   "outputs": [
    {
     "name": "stdout",
     "output_type": "stream",
     "text": [
      "('1840e0b9d4', 'Продукты')\n",
      "('4e4f90fcfb', 'Электроника')\n",
      "('afea8d72fc', 'Электроника')\n",
      "('373a6055fe', 'Бытовая техника')\n",
      "('9b2ab046f3', 'Электроника')\n",
      "('9f39d307c3', 'Электроника')\n",
      "('44edeffc91', 'Продукты')\n",
      "('704474fa2d', 'Продукты')\n",
      "('1de31be403', 'Бытовая техника')\n",
      "('b71f36a5e4', 'Продукты')\n"
     ]
    }
   ],
   "source": [
    "i = 0\n",
    "for st in purchases.items():\n",
    "    print(st)\n",
    "    i = 1 + i\n",
    "    if i > 9:\n",
    "        break"
   ]
  },
  {
   "cell_type": "code",
   "execution_count": 272,
   "id": "be60b122",
   "metadata": {},
   "outputs": [],
   "source": [
    "with open('visit_log.csv', 'r') as f, open('funnel.csv', 'w') as w_f:\n",
    "    add_line = 'user_id,source,category'\n",
    "    w_f.write(add_line+'\\n')\n",
    "    for row in f:\n",
    "        line_list=row.strip().split(',')\n",
    "        if line_list[0] in purchases.keys():\n",
    "            line_list.append(purchases[line_list[0]])\n",
    "            add_line=','.join(line_list)\n",
    "            w_f.write(add_line+'\\n')\n",
    "        \n"
   ]
  },
  {
   "cell_type": "code",
   "execution_count": 273,
   "id": "8f9796aa",
   "metadata": {},
   "outputs": [],
   "source": [
    "f.close()\n",
    "w_f.close()"
   ]
  },
  {
   "cell_type": "code",
   "execution_count": 274,
   "id": "3d83311c",
   "metadata": {},
   "outputs": [
    {
     "name": "stdout",
     "output_type": "stream",
     "text": [
      "user_id,source,category\n",
      "\n",
      "1840e0b9d4,other,Продукты\n",
      "\n",
      "4e4f90fcfb,context,Электроника\n",
      "\n",
      "afea8d72fc,other,Электроника\n",
      "\n",
      "2824221f38,email,Продукты\n",
      "\n",
      "373a6055fe,other,Бытовая техника\n",
      "\n",
      "9b2ab046f3,other,Электроника\n",
      "\n",
      "9f39d307c3,context,Электроника\n",
      "\n",
      "44edeffc91,context,Продукты\n",
      "\n"
     ]
    }
   ],
   "source": [
    "i = 0\n",
    "with open('funnel.csv', 'r') as f:\n",
    "    for row in f:\n",
    "        if i < 9:\n",
    "            print(row)\n",
    "            i = i + 1\n",
    "        else: break\n",
    "        "
   ]
  },
  {
   "cell_type": "code",
   "execution_count": 275,
   "id": "ebdd1a7f",
   "metadata": {},
   "outputs": [],
   "source": [
    "f.close()"
   ]
  },
  {
   "cell_type": "code",
   "execution_count": null,
   "id": "3b869eec",
   "metadata": {},
   "outputs": [],
   "source": []
  }
 ],
 "metadata": {
  "kernelspec": {
   "display_name": "Python 3 (ipykernel)",
   "language": "python",
   "name": "python3"
  },
  "language_info": {
   "codemirror_mode": {
    "name": "ipython",
    "version": 3
   },
   "file_extension": ".py",
   "mimetype": "text/x-python",
   "name": "python",
   "nbconvert_exporter": "python",
   "pygments_lexer": "ipython3",
   "version": "3.9.12"
  }
 },
 "nbformat": 4,
 "nbformat_minor": 5
}
