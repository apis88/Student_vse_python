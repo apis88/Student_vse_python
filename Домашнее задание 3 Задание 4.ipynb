{
 "cells": [
  {
   "cell_type": "code",
   "execution_count": 48,
   "id": "fa6f2e11",
   "metadata": {},
   "outputs": [
    {
     "data": {
      "text/plain": [
       "dict"
      ]
     },
     "execution_count": 48,
     "metadata": {},
     "output_type": "execute_result"
    }
   ],
   "source": [
    "stats = {'facebook': 55, 'yandex': 115, 'vk': 120, 'google': 99, 'email': 42, 'ok': 98}\n",
    "type (stats)"
   ]
  },
  {
   "cell_type": "code",
   "execution_count": 57,
   "id": "3125692b",
   "metadata": {},
   "outputs": [
    {
     "name": "stdout",
     "output_type": "stream",
     "text": [
      "120 vk\n"
     ]
    }
   ],
   "source": [
    "max_val = 0\n",
    "for company, value in stats.items():\n",
    "    if max_val <= value:\n",
    "        max_val = value\n",
    "        best_comp = company\n",
    "    \n",
    "print(max_val, best_comp) "
   ]
  },
  {
   "cell_type": "code",
   "execution_count": 59,
   "id": "b8571749",
   "metadata": {},
   "outputs": [
    {
     "name": "stdout",
     "output_type": "stream",
     "text": [
      "Максимальный объем продаж на рекламном канале: vk\n"
     ]
    }
   ],
   "source": [
    "print(f'Максимальный объем продаж на рекламном канале: {best_comp}')"
   ]
  },
  {
   "cell_type": "code",
   "execution_count": null,
   "id": "10d5b3b4",
   "metadata": {},
   "outputs": [],
   "source": []
  },
  {
   "cell_type": "code",
   "execution_count": null,
   "id": "c93e4427",
   "metadata": {},
   "outputs": [],
   "source": []
  },
  {
   "cell_type": "code",
   "execution_count": null,
   "id": "462bd054",
   "metadata": {},
   "outputs": [],
   "source": []
  }
 ],
 "metadata": {
  "kernelspec": {
   "display_name": "Python 3 (ipykernel)",
   "language": "python",
   "name": "python3"
  },
  "language_info": {
   "codemirror_mode": {
    "name": "ipython",
    "version": 3
   },
   "file_extension": ".py",
   "mimetype": "text/x-python",
   "name": "python",
   "nbconvert_exporter": "python",
   "pygments_lexer": "ipython3",
   "version": "3.9.12"
  }
 },
 "nbformat": 4,
 "nbformat_minor": 5
}
