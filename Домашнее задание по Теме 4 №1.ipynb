{
 "cells": [
  {
   "cell_type": "code",
   "execution_count": 315,
   "id": "fc09b8a4",
   "metadata": {},
   "outputs": [],
   "source": [
    "documents = [\n",
    " {'type': 'passport', 'number': '2207 876234', 'name': 'Василий Гупкин'},\n",
    " {'type': 'invoice', 'number': '11-2', 'name': 'Геннадий Покемонов'},\n",
    " {'type': 'insurance', 'number': '10006', 'name': 'Аристарх Павлов'}\n",
    "]\n",
    "\n",
    "directories = {\n",
    " '1': ['2207 876234', '11-2'],\n",
    " '2': ['10006'],\n",
    " '3': []\n",
    "}\n"
   ]
  },
  {
   "cell_type": "code",
   "execution_count": 316,
   "id": "f1939e95",
   "metadata": {},
   "outputs": [],
   "source": [
    "def owner(number_doc):\n",
    "    \"\"\"\n",
    "    Функция возвращает по номеру документа данные о его владельце\n",
    "    \"\"\"\n",
    "    global documents\n",
    "    owner_name = ''\n",
    "    for row in documents:\n",
    "        if row['number'] == number_doc:\n",
    "            owner_name = 'Владелец документа: ' + row['name']\n",
    "            return  owner_name\n",
    "    if owner_name == '': \n",
    "        owner_name = '\\nДокумент не найден в базе\\n'\n",
    "        return owner_name"
   ]
  },
  {
   "cell_type": "code",
   "execution_count": 317,
   "id": "934a0bc9",
   "metadata": {},
   "outputs": [],
   "source": [
    "def shelf(number_doc):\n",
    "    shelf = ''\n",
    "    global directories\n",
    "    for dir, values in directories.items():\n",
    "        if number_doc in values:\n",
    "            shelf = 'Документ хранится на полке: ' + dir\n",
    "    if shelf == '':\n",
    "        shelf='Документ не найден в базе'\n",
    "    return shelf    "
   ]
  },
  {
   "cell_type": "code",
   "execution_count": 318,
   "id": "47cb1b2b",
   "metadata": {},
   "outputs": [],
   "source": [
    "def doc_dir(number_doc):\n",
    "    \"\"\"\n",
    "    Функция возвращает по номеру документа данные о месте хранения\n",
    "    \"\"\"\n",
    "    shelf = ''\n",
    "    for item, values in directories.items():\n",
    "        if number_doc in values:\n",
    "            shelf = 'Документ хранится на полке: ' + item\n",
    "    if shelf == '':\n",
    "        shelf='Документ не найден в базе'\n",
    "    return shelf    "
   ]
  },
  {
   "cell_type": "code",
   "execution_count": 319,
   "id": "07bea62a",
   "metadata": {},
   "outputs": [],
   "source": [
    "def main():\n",
    "    \"\"\"\n",
    "    Основная функция автоматизации работы секретаря\n",
    "    \"\"\"\n",
    "    i = 0\n",
    "    while i < 1:\n",
    "        print('\\nВведите команду \"p\" для поиска владельца документа\\nВведите команду \"p\" для поиска владельца документа\\nВведите команду \"q\" для завершения работы с программой') \n",
    "\n",
    "        command_input=input('\\nВведите команду: \\n')\n",
    "        if command_input == 'p':\n",
    "            number_input=input('\\nВведите номер документа: \\n')\n",
    "            print(owner(number_input))\n",
    "        if command_input == 's':\n",
    "            number_input=input('\\nВведите номер документа: \\n')\n",
    "            print(shelf(number_input))\n",
    "        elif command_input == 'q':\n",
    "            break\n",
    "        else:\n",
    "            print('\\nНет такой команды\\n')\n",
    "        "
   ]
  },
  {
   "cell_type": "code",
   "execution_count": null,
   "id": "588ae38f",
   "metadata": {},
   "outputs": [
    {
     "name": "stdout",
     "output_type": "stream",
     "text": [
      "\n",
      "Введите команду \"p\" для поиска владельца документа\n",
      "Введите команду \"p\" для поиска владельца документа\n",
      "Введите команду \"q\" для завершения работы с программой\n"
     ]
    }
   ],
   "source": [
    "main()"
   ]
  },
  {
   "cell_type": "code",
   "execution_count": null,
   "id": "d001a83e",
   "metadata": {},
   "outputs": [],
   "source": []
  },
  {
   "cell_type": "code",
   "execution_count": null,
   "id": "88480198",
   "metadata": {},
   "outputs": [],
   "source": []
  }
 ],
 "metadata": {
  "kernelspec": {
   "display_name": "Python 3 (ipykernel)",
   "language": "python",
   "name": "python3"
  },
  "language_info": {
   "codemirror_mode": {
    "name": "ipython",
    "version": 3
   },
   "file_extension": ".py",
   "mimetype": "text/x-python",
   "name": "python",
   "nbconvert_exporter": "python",
   "pygments_lexer": "ipython3",
   "version": "3.9.12"
  }
 },
 "nbformat": 4,
 "nbformat_minor": 5
}
