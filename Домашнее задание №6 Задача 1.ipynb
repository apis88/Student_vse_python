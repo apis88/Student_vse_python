{
 "cells": [
  {
   "cell_type": "code",
   "execution_count": 118,
   "id": "c0ab1f5c",
   "metadata": {},
   "outputs": [],
   "source": [
    "import datetime"
   ]
  },
  {
   "cell_type": "code",
   "execution_count": 119,
   "id": "4e0cfd3d",
   "metadata": {},
   "outputs": [],
   "source": [
    "MosTime = 'The Moscow Times - Wednesday, October 2, 2002'\n",
    "Gurd = 'The Guardian - Friday, 11.10.13'\n",
    "DailN = 'Daily News - Thursday, 18 August 1977'"
   ]
  },
  {
   "cell_type": "code",
   "execution_count": 120,
   "id": "2d113ce6",
   "metadata": {
    "scrolled": true
   },
   "outputs": [
    {
     "name": "stdout",
     "output_type": "stream",
     "text": [
      "Wednesday, October 2, 2002\n",
      "Friday, 11.10.13\n",
      "Thursday, 18 August 1977\n"
     ]
    }
   ],
   "source": [
    "MosTime_date = MosTime[MosTime.find('-')+2:]\n",
    "Gurd_date = Gurd[Gurd.find('-')+2:]\n",
    "DailN_date = DailN[DailN.find('-')+2::]\n",
    "print(MosTime_date)\n",
    "print(Gurd_date)\n",
    "print(DailN_date)"
   ]
  },
  {
   "cell_type": "code",
   "execution_count": 121,
   "id": "32927ed5",
   "metadata": {},
   "outputs": [],
   "source": [
    "#(MosTime_date, '%A, %B, %d, %Y')"
   ]
  },
  {
   "cell_type": "code",
   "execution_count": 122,
   "id": "57ff38f1",
   "metadata": {},
   "outputs": [],
   "source": [
    "dt_now = datetime.datetime.now()"
   ]
  },
  {
   "cell_type": "code",
   "execution_count": 123,
   "id": "1ce6d4e6",
   "metadata": {},
   "outputs": [
    {
     "name": "stdout",
     "output_type": "stream",
     "text": [
      "2022-10-09 00:32:34.692186\n"
     ]
    }
   ],
   "source": [
    "print(dt_now)"
   ]
  },
  {
   "cell_type": "code",
   "execution_count": 124,
   "id": "8a1bedf9",
   "metadata": {},
   "outputs": [
    {
     "data": {
      "text/plain": [
       "datetime.datetime(2002, 10, 2, 0, 0)"
      ]
     },
     "execution_count": 124,
     "metadata": {},
     "output_type": "execute_result"
    }
   ],
   "source": [
    "datetime.datetime.strptime(MosTime_date, '%A, %B %d, %Y')"
   ]
  },
  {
   "cell_type": "code",
   "execution_count": 125,
   "id": "1f3946e5",
   "metadata": {},
   "outputs": [
    {
     "data": {
      "text/plain": [
       "datetime.datetime(2013, 10, 11, 0, 0)"
      ]
     },
     "execution_count": 125,
     "metadata": {},
     "output_type": "execute_result"
    }
   ],
   "source": [
    "datetime.datetime.strptime(Gurd_date, '%A, %d.%m.%y')\n",
    "#т.к. не понятен порядок месяца и дня месяца, то делаю второй вариант\n"
   ]
  },
  {
   "cell_type": "code",
   "execution_count": 126,
   "id": "1a080716",
   "metadata": {},
   "outputs": [
    {
     "data": {
      "text/plain": [
       "datetime.datetime(2013, 11, 10, 0, 0)"
      ]
     },
     "execution_count": 126,
     "metadata": {},
     "output_type": "execute_result"
    }
   ],
   "source": [
    "datetime.datetime.strptime(Gurd_date, '%A, %m.%d.%y')"
   ]
  },
  {
   "cell_type": "code",
   "execution_count": 127,
   "id": "7eee5b52",
   "metadata": {},
   "outputs": [
    {
     "data": {
      "text/plain": [
       "datetime.datetime(1977, 8, 18, 0, 0)"
      ]
     },
     "execution_count": 127,
     "metadata": {},
     "output_type": "execute_result"
    }
   ],
   "source": [
    "datetime.datetime.strptime(DailN_date, '%A, %d %B %Y')"
   ]
  },
  {
   "cell_type": "code",
   "execution_count": null,
   "id": "1157b9f1",
   "metadata": {},
   "outputs": [],
   "source": []
  },
  {
   "cell_type": "code",
   "execution_count": null,
   "id": "090a772c",
   "metadata": {},
   "outputs": [],
   "source": []
  }
 ],
 "metadata": {
  "kernelspec": {
   "display_name": "Python 3 (ipykernel)",
   "language": "python",
   "name": "python3"
  },
  "language_info": {
   "codemirror_mode": {
    "name": "ipython",
    "version": 3
   },
   "file_extension": ".py",
   "mimetype": "text/x-python",
   "name": "python",
   "nbconvert_exporter": "python",
   "pygments_lexer": "ipython3",
   "version": "3.9.12"
  }
 },
 "nbformat": 4,
 "nbformat_minor": 5
}
