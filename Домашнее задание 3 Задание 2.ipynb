{
 "cells": [
  {
   "cell_type": "code",
   "execution_count": 118,
   "id": "b010e175",
   "metadata": {},
   "outputs": [],
   "source": [
    "queries = [\n",
    "    'смотреть сериалы онлайн',\n",
    "    'новости спорта',\n",
    "    'афиша кино',\n",
    "    'курс доллара',\n",
    "    'сериалы этим летом',\n",
    "    'курс по питону',\n",
    "    'сериалы про спорт',\n",
    "]"
   ]
  },
  {
   "cell_type": "code",
   "execution_count": 119,
   "id": "a415cf9f",
   "metadata": {},
   "outputs": [
    {
     "name": "stdout",
     "output_type": "stream",
     "text": [
      "7\n"
     ]
    }
   ],
   "source": [
    "qty_req = len(queries)\n",
    "print(qty_req)\n",
    "words = [ ]"
   ]
  },
  {
   "cell_type": "code",
   "execution_count": 120,
   "id": "8aa0a89c",
   "metadata": {},
   "outputs": [
    {
     "name": "stdout",
     "output_type": "stream",
     "text": [
      "смотреть сериалы онлайн [3]\n",
      "новости спорта [3, 2]\n",
      "афиша кино [3, 2, 2]\n",
      "курс доллара [3, 2, 2, 2]\n",
      "сериалы этим летом [3, 2, 2, 2, 3]\n",
      "курс по питону [3, 2, 2, 2, 3, 3]\n",
      "сериалы про спорт [3, 2, 2, 2, 3, 3, 3]\n"
     ]
    }
   ],
   "source": [
    "for req in queries:\n",
    "    req.split()\n",
    "    words.append(len(req.split()))\n",
    "    print(req, words)"
   ]
  },
  {
   "cell_type": "code",
   "execution_count": 121,
   "id": "d1467ee4",
   "metadata": {},
   "outputs": [
    {
     "name": "stdout",
     "output_type": "stream",
     "text": [
      "[3, 2, 2, 2, 3, 3, 3]\n"
     ]
    }
   ],
   "source": [
    "print(words)\n",
    "uniq = set(words)"
   ]
  },
  {
   "cell_type": "code",
   "execution_count": 122,
   "id": "8e89fb0b",
   "metadata": {},
   "outputs": [
    {
     "name": "stdout",
     "output_type": "stream",
     "text": [
      "Поисковых запросов, содержащих 2  слов(а): 42.86 %\n",
      "Поисковых запросов, содержащих 3  слов(а): 57.14 %\n"
     ]
    }
   ],
   "source": [
    "for i in uniq:\n",
    "    rez = words.count(i)/qty_req*100\n",
    "    print(f'Поисковых запросов, содержащих {i}  слов(а): {round(rez,2)} %')"
   ]
  },
  {
   "cell_type": "code",
   "execution_count": null,
   "id": "35dc9701",
   "metadata": {},
   "outputs": [],
   "source": []
  },
  {
   "cell_type": "code",
   "execution_count": null,
   "id": "b36246ae",
   "metadata": {},
   "outputs": [],
   "source": []
  },
  {
   "cell_type": "code",
   "execution_count": null,
   "id": "1b599410",
   "metadata": {},
   "outputs": [],
   "source": []
  }
 ],
 "metadata": {
  "kernelspec": {
   "display_name": "Python 3 (ipykernel)",
   "language": "python",
   "name": "python3"
  },
  "language_info": {
   "codemirror_mode": {
    "name": "ipython",
    "version": 3
   },
   "file_extension": ".py",
   "mimetype": "text/x-python",
   "name": "python",
   "nbconvert_exporter": "python",
   "pygments_lexer": "ipython3",
   "version": "3.9.12"
  }
 },
 "nbformat": 4,
 "nbformat_minor": 5
}
