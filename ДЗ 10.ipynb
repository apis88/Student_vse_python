{
  "nbformat": 4,
  "nbformat_minor": 0,
  "metadata": {
    "colab": {
      "provenance": []
    },
    "kernelspec": {
      "name": "python3",
      "display_name": "Python 3"
    },
    "language_info": {
      "name": "python"
    }
  },
  "cells": [
    {
      "cell_type": "code",
      "source": [
        "pip install ipytest"
      ],
      "metadata": {
        "colab": {
          "base_uri": "https://localhost:8080/"
        },
        "id": "dy08rYFqFwgX",
        "outputId": "ae21e903-0cfe-4f2a-9673-6d4a7bfafbbe"
      },
      "execution_count": 45,
      "outputs": [
        {
          "output_type": "stream",
          "name": "stdout",
          "text": [
            "Looking in indexes: https://pypi.org/simple, https://us-python.pkg.dev/colab-wheels/public/simple/\n",
            "Requirement already satisfied: ipytest in /usr/local/lib/python3.8/dist-packages (0.13.0)\n",
            "Requirement already satisfied: packaging in /usr/local/lib/python3.8/dist-packages (from ipytest) (21.3)\n",
            "Requirement already satisfied: pytest>=5.4 in /usr/local/lib/python3.8/dist-packages (from ipytest) (7.2.0)\n",
            "Requirement already satisfied: ipython in /usr/local/lib/python3.8/dist-packages (from ipytest) (7.9.0)\n",
            "Requirement already satisfied: exceptiongroup>=1.0.0rc8 in /usr/local/lib/python3.8/dist-packages (from pytest>=5.4->ipytest) (1.0.4)\n",
            "Requirement already satisfied: tomli>=1.0.0 in /usr/local/lib/python3.8/dist-packages (from pytest>=5.4->ipytest) (2.0.1)\n",
            "Requirement already satisfied: iniconfig in /usr/local/lib/python3.8/dist-packages (from pytest>=5.4->ipytest) (1.1.1)\n",
            "Requirement already satisfied: pluggy<2.0,>=0.12 in /usr/local/lib/python3.8/dist-packages (from pytest>=5.4->ipytest) (1.0.0)\n",
            "Requirement already satisfied: attrs>=19.2.0 in /usr/local/lib/python3.8/dist-packages (from pytest>=5.4->ipytest) (22.1.0)\n",
            "Requirement already satisfied: decorator in /usr/local/lib/python3.8/dist-packages (from ipython->ipytest) (4.4.2)\n",
            "Requirement already satisfied: pygments in /usr/local/lib/python3.8/dist-packages (from ipython->ipytest) (2.6.1)\n",
            "Requirement already satisfied: backcall in /usr/local/lib/python3.8/dist-packages (from ipython->ipytest) (0.2.0)\n",
            "Requirement already satisfied: traitlets>=4.2 in /usr/local/lib/python3.8/dist-packages (from ipython->ipytest) (5.1.1)\n",
            "Requirement already satisfied: prompt-toolkit<2.1.0,>=2.0.0 in /usr/local/lib/python3.8/dist-packages (from ipython->ipytest) (2.0.10)\n",
            "Requirement already satisfied: pickleshare in /usr/local/lib/python3.8/dist-packages (from ipython->ipytest) (0.7.5)\n",
            "Requirement already satisfied: pexpect in /usr/local/lib/python3.8/dist-packages (from ipython->ipytest) (4.8.0)\n",
            "Requirement already satisfied: jedi>=0.10 in /usr/local/lib/python3.8/dist-packages (from ipython->ipytest) (0.18.2)\n",
            "Requirement already satisfied: setuptools>=18.5 in /usr/local/lib/python3.8/dist-packages (from ipython->ipytest) (57.4.0)\n",
            "Requirement already satisfied: parso<0.9.0,>=0.8.0 in /usr/local/lib/python3.8/dist-packages (from jedi>=0.10->ipython->ipytest) (0.8.3)\n",
            "Requirement already satisfied: wcwidth in /usr/local/lib/python3.8/dist-packages (from prompt-toolkit<2.1.0,>=2.0.0->ipython->ipytest) (0.2.5)\n",
            "Requirement already satisfied: six>=1.9.0 in /usr/local/lib/python3.8/dist-packages (from prompt-toolkit<2.1.0,>=2.0.0->ipython->ipytest) (1.15.0)\n",
            "Requirement already satisfied: pyparsing!=3.0.5,>=2.0.2 in /usr/local/lib/python3.8/dist-packages (from packaging->ipytest) (3.0.9)\n",
            "Requirement already satisfied: ptyprocess>=0.5 in /usr/local/lib/python3.8/dist-packages (from pexpect->ipython->ipytest) (0.7.0)\n"
          ]
        }
      ]
    },
    {
      "cell_type": "code",
      "execution_count": 46,
      "metadata": {
        "id": "ZXMFjKcuFimz"
      },
      "outputs": [],
      "source": [
        "import pytest\n",
        "import ipytest\n",
        "import re\n",
        "ipytest.autoconfig(addopts=[\"-v\"])"
      ]
    },
    {
      "cell_type": "code",
      "source": [
        "%%ipytest\n",
        "import re\n",
        "@pytest.mark.parametrize('string,expected',[('Ежу хуже', True),('Лев осовел', True),('zyf', False),('ZZ!Z,Z', True),('Кот учён, но не чуток', False),('Мы будем Вам благодарны', False),('Лена набила pожy мyжy - мyж оpал и банан ел', True),('ОНо', True)])\n",
        "def test_check_palindrome(string, expected):\n",
        "    assert check_palindrome(string) == expected "
      ],
      "metadata": {
        "colab": {
          "base_uri": "https://localhost:8080/"
        },
        "id": "_SZfD-n0FmBr",
        "outputId": "32ebed0c-c18f-4b8d-d2a5-e6b0dbbd55d7"
      },
      "execution_count": 47,
      "outputs": [
        {
          "output_type": "stream",
          "name": "stdout",
          "text": [
            "======================================= test session starts ========================================\n",
            "platform linux -- Python 3.8.15, pytest-7.2.0, pluggy-1.0.0 -- /usr/bin/python3\n",
            "cachedir: .pytest_cache\n",
            "rootdir: /content\n",
            "plugins: typeguard-2.7.1\n",
            "collecting ... collected 8 items\n",
            "\n",
            "t_0a224bb6c43e4c31ac8364b64b506e81.py::test_check_palindrome[\\u0415\\u0436\\u0443 \\u0445\\u0443\\u0436\\u0435-True] PASSED [ 12%]\n",
            "t_0a224bb6c43e4c31ac8364b64b506e81.py::test_check_palindrome[\\u041b\\u0435\\u0432 \\u043e\\u0441\\u043e\\u0432\\u0435\\u043b-True] PASSED [ 25%]\n",
            "t_0a224bb6c43e4c31ac8364b64b506e81.py::test_check_palindrome[zyf-False] PASSED               [ 37%]\n",
            "t_0a224bb6c43e4c31ac8364b64b506e81.py::test_check_palindrome[ZZ!Z,Z-True] PASSED             [ 50%]\n",
            "t_0a224bb6c43e4c31ac8364b64b506e81.py::test_check_palindrome[\\u041a\\u043e\\u0442 \\u0443\\u0447\\u0451\\u043d, \\u043d\\u043e \\u043d\\u0435 \\u0447\\u0443\\u0442\\u043e\\u043a-False] PASSED [ 62%]\n",
            "t_0a224bb6c43e4c31ac8364b64b506e81.py::test_check_palindrome[\\u041c\\u044b \\u0431\\u0443\\u0434\\u0435\\u043c \\u0412\\u0430\\u043c \\u0431\\u043b\\u0430\\u0433\\u043e\\u0434\\u0430\\u0440\\u043d\\u044b-False] PASSED [ 75%]\n",
            "t_0a224bb6c43e4c31ac8364b64b506e81.py::test_check_palindrome[\\u041b\\u0435\\u043d\\u0430 \\u043d\\u0430\\u0431\\u0438\\u043b\\u0430 p\\u043e\\u0436y \\u043cy\\u0436y - \\u043cy\\u0436 \\u043ep\\u0430\\u043b \\u0438 \\u0431\\u0430\\u043d\\u0430\\u043d \\u0435\\u043b-True] PASSED [ 87%]\n",
            "t_0a224bb6c43e4c31ac8364b64b506e81.py::test_check_palindrome[\\u041e\\u041d\\u043e-True] PASSED [100%]\n",
            "\n",
            "======================================== 8 passed in 0.08s =========================================\n"
          ]
        }
      ]
    },
    {
      "cell_type": "code",
      "source": [
        "%%ipytest\n",
        "import re\n",
        "\n",
        "def test_check_palindrome_number():\n",
        "    assert check_palindrome('666') == False"
      ],
      "metadata": {
        "colab": {
          "base_uri": "https://localhost:8080/"
        },
        "id": "H0nRgRm_6lcD",
        "outputId": "29350cf2-3371-491e-cb49-a0e2acc21a07"
      },
      "execution_count": 55,
      "outputs": [
        {
          "output_type": "stream",
          "name": "stdout",
          "text": [
            "======================================= test session starts ========================================\n",
            "platform linux -- Python 3.8.15, pytest-7.2.0, pluggy-1.0.0 -- /usr/bin/python3\n",
            "cachedir: .pytest_cache\n",
            "rootdir: /content\n",
            "plugins: typeguard-2.7.1\n",
            "collecting ... collected 1 item\n",
            "\n",
            "t_0a224bb6c43e4c31ac8364b64b506e81.py::test_check_palindrome_number PASSED                   [100%]\n",
            "\n",
            "======================================== 1 passed in 0.02s =========================================\n"
          ]
        }
      ]
    },
    {
      "cell_type": "code",
      "source": [
        "%%ipytest\n",
        "import re\n",
        "\n",
        "def test_check_palindrome_number():\n",
        "    assert check_palindrome('     ') == False"
      ],
      "metadata": {
        "colab": {
          "base_uri": "https://localhost:8080/"
        },
        "id": "73ne0YDvClbu",
        "outputId": "4a578ec6-1200-4869-8c75-504588a83634"
      },
      "execution_count": 59,
      "outputs": [
        {
          "output_type": "stream",
          "name": "stdout",
          "text": [
            "======================================= test session starts ========================================\n",
            "platform linux -- Python 3.8.15, pytest-7.2.0, pluggy-1.0.0 -- /usr/bin/python3\n",
            "cachedir: .pytest_cache\n",
            "rootdir: /content\n",
            "plugins: typeguard-2.7.1\n",
            "collecting ... collected 1 item\n",
            "\n",
            "t_0a224bb6c43e4c31ac8364b64b506e81.py::test_check_palindrome_number PASSED                   [100%]\n",
            "\n",
            "======================================== 1 passed in 0.02s =========================================\n"
          ]
        }
      ]
    },
    {
      "cell_type": "code",
      "source": [
        "%%ipytest\n",
        "import re\n",
        "\n",
        "def test_check_palindrome_len():\n",
        "    assert check_palindrome('r') == False"
      ],
      "metadata": {
        "colab": {
          "base_uri": "https://localhost:8080/"
        },
        "id": "kZYnK3WLGBxK",
        "outputId": "64a2e33a-8a8e-49ac-ded3-059d8f12a0ee"
      },
      "execution_count": 81,
      "outputs": [
        {
          "output_type": "stream",
          "name": "stdout",
          "text": [
            "======================================= test session starts ========================================\n",
            "platform linux -- Python 3.8.15, pytest-7.2.0, pluggy-1.0.0 -- /usr/bin/python3\n",
            "cachedir: .pytest_cache\n",
            "rootdir: /content\n",
            "plugins: typeguard-2.7.1\n",
            "collecting ... collected 1 item\n",
            "\n",
            "t_0a224bb6c43e4c31ac8364b64b506e81.py::test_check_palindrome_len PASSED                      [100%]\n",
            "\n",
            "======================================== 1 passed in 0.03s =========================================\n"
          ]
        }
      ]
    },
    {
      "cell_type": "code",
      "source": [
        "def check_palindrome(string: str):\n",
        "    if string.isnumeric() == True:\n",
        "        return(False)\n",
        "    if string.isspace()  == True:\n",
        "        return(False)\n",
        "    s_re=re.sub(r'[\\W_]+', '', string)\n",
        "    s_itog = s_re.lower()\n",
        "    if len(s_itog) == 1 and s_itog == 'о':\n",
        "        return(False)\n",
        "    else:\n",
        "        return(False)\n",
        "    reversed_string = s_itog[::-1]\n",
        "    if s_itog == reversed_string:\n",
        "        #print(string, 'is a palindrome')\n",
        "        return(True) \n",
        "    else:\n",
        "        #print(string, 'is not a Palindrome')\n",
        "        return(False)"
      ],
      "metadata": {
        "id": "UFHEmeNc0CBW"
      },
      "execution_count": 80,
      "outputs": []
    }
  ]
}