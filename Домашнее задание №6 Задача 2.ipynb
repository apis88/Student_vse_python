{
 "cells": [
  {
   "cell_type": "code",
   "execution_count": 19,
   "id": "1da66635",
   "metadata": {},
   "outputs": [],
   "source": [
    "import datetime"
   ]
  },
  {
   "cell_type": "code",
   "execution_count": 20,
   "id": "5a100c30",
   "metadata": {},
   "outputs": [],
   "source": [
    "def date_range():\n",
    "    days=[]\n",
    "    try:\n",
    "        start_date=input('Введите начальную дату в формате YYYY-MM-DD: ')\n",
    "        start_dt = datetime.datetime.strptime(start_date,'%Y-%m-%d')\n",
    "    except ValueError:\n",
    "        return(days)\n",
    "    try:\n",
    "        end_date=input('Введите дату окончания в формате YYYY-MM-DD: ')\n",
    "        end_dt = datetime.datetime.strptime(end_date,'%Y-%m-%d')\n",
    "    except ValueError:\n",
    "        return(days)\n",
    "    if start_dt > end_dt:\n",
    "        return(days)\n",
    "    days.append(datetime.datetime.strftime(start_dt,'%Y-%m-%d'))\n",
    "    while start_dt < end_dt:\n",
    "        start_dt = start_dt + datetime.timedelta(days=1)\n",
    "        print_datetime = datetime.datetime.strftime(start_dt,'%Y-%m-%d')\n",
    "        days.append(print_datetime)\n",
    "    return(days)"
   ]
  },
  {
   "cell_type": "code",
   "execution_count": 21,
   "id": "878d0c8d",
   "metadata": {},
   "outputs": [
    {
     "name": "stdout",
     "output_type": "stream",
     "text": [
      "Введите начальную дату в формате YYYY-MM-DD: 2022-01-03\n",
      "Введите дату окончания в формате YYYY-MM-DD: 2022-01-01\n"
     ]
    },
    {
     "data": {
      "text/plain": [
       "[]"
      ]
     },
     "execution_count": 21,
     "metadata": {},
     "output_type": "execute_result"
    }
   ],
   "source": [
    "date_range()"
   ]
  },
  {
   "cell_type": "code",
   "execution_count": null,
   "id": "d5db6753",
   "metadata": {},
   "outputs": [],
   "source": []
  },
  {
   "cell_type": "code",
   "execution_count": null,
   "id": "f60ce97a",
   "metadata": {},
   "outputs": [],
   "source": []
  }
 ],
 "metadata": {
  "kernelspec": {
   "display_name": "Python 3 (ipykernel)",
   "language": "python",
   "name": "python3"
  },
  "language_info": {
   "codemirror_mode": {
    "name": "ipython",
    "version": 3
   },
   "file_extension": ".py",
   "mimetype": "text/x-python",
   "name": "python",
   "nbconvert_exporter": "python",
   "pygments_lexer": "ipython3",
   "version": "3.9.12"
  }
 },
 "nbformat": 4,
 "nbformat_minor": 5
}
